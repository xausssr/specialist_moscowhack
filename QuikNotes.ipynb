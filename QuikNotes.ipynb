{
 "cells": [
  {
   "cell_type": "code",
   "execution_count": 15,
   "metadata": {},
   "outputs": [],
   "source": [
    "import networkx as nx\n",
    "from networkx.readwrite import json_graph\n",
    "import plotly.graph_objects as go\n",
    "import json"
   ]
  },
  {
   "cell_type": "markdown",
   "metadata": {},
   "source": [
    "Создание объекта Graph"
   ]
  },
  {
   "cell_type": "code",
   "execution_count": 2,
   "metadata": {},
   "outputs": [],
   "source": [
    "G = nx.Graph()"
   ]
  },
  {
   "cell_type": "markdown",
   "metadata": {},
   "source": [
    "Базовое описание графа\n",
    "* Ноды\n",
    "* Узлы"
   ]
  },
  {
   "cell_type": "code",
   "execution_count": 5,
   "metadata": {},
   "outputs": [],
   "source": [
    "G.add_nodes_from([\n",
    "    (1, {\"name\": \"Нетология курс 1\", \"color\": \"red\", \"link\": \"https://yandex.ru\"}),\n",
    "    (2, {\"name\": \"Нетология курс 2\", \"color\": \"red\", \"link\": \"https://yandex.ru\"}),\n",
    "    (3, {\"name\": \"Нетология курс 3\", \"color\": \"red\", \"link\": \"https://yandex.ru\"}),\n",
    "    (4, {\"name\": \"Нетология курс 4\", \"color\": \"red\", \"link\": \"https://yandex.ru\"}),\n",
    "])"
   ]
  },
  {
   "cell_type": "code",
   "execution_count": 6,
   "metadata": {},
   "outputs": [],
   "source": [
    "G.add_edges_from([(1, 2), (1, 3), (2, 4)])"
   ]
  },
  {
   "cell_type": "markdown",
   "metadata": {},
   "source": [
    "Базовый вывод графа"
   ]
  },
  {
   "cell_type": "code",
   "execution_count": 13,
   "metadata": {},
   "outputs": [],
   "source": [
    "data = json_graph.node_link_data(G)"
   ]
  },
  {
   "cell_type": "markdown",
   "metadata": {},
   "source": [
    "Дамп в json (для экспериментов)"
   ]
  },
  {
   "cell_type": "code",
   "execution_count": 16,
   "metadata": {},
   "outputs": [],
   "source": [
    "with open('graph.json', 'w') as f:\n",
    "    json.dump(data, f, indent=4)"
   ]
  },
  {
   "cell_type": "code",
   "execution_count": 17,
   "metadata": {},
   "outputs": [
    {
     "data": {
      "text/plain": [
       "{'directed': False,\n",
       " 'multigraph': False,\n",
       " 'graph': {},\n",
       " 'nodes': [{'name': 'Нетология курс 1', 'color': 'red', 'id': 1},\n",
       "  {'name': 'Нетология курс 2', 'color': 'red', 'id': 2},\n",
       "  {'name': 'Нетология курс 3', 'color': 'red', 'id': 3},\n",
       "  {'name': 'Нетология курс 4', 'color': 'red', 'id': 4}],\n",
       " 'links': [{'source': 1, 'target': 2},\n",
       "  {'source': 1, 'target': 3},\n",
       "  {'source': 2, 'target': 4}]}"
      ]
     },
     "execution_count": 17,
     "metadata": {},
     "output_type": "execute_result"
    }
   ],
   "source": [
    "data"
   ]
  }
 ],
 "metadata": {
  "kernelspec": {
   "display_name": "Python 3",
   "language": "python",
   "name": "python3"
  },
  "language_info": {
   "codemirror_mode": {
    "name": "ipython",
    "version": 3
   },
   "file_extension": ".py",
   "mimetype": "text/x-python",
   "name": "python",
   "nbconvert_exporter": "python",
   "pygments_lexer": "ipython3",
   "version": "3.8.3"
  }
 },
 "nbformat": 4,
 "nbformat_minor": 4
}
